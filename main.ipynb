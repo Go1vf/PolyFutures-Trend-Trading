{
 "cells": [
  {
   "cell_type": "code",
   "execution_count": 29,
   "id": "initial_id",
   "metadata": {
    "collapsed": true,
    "ExecuteTime": {
     "end_time": "2024-04-29T05:41:54.568439Z",
     "start_time": "2024-04-29T05:41:54.562958Z"
    }
   },
   "outputs": [],
   "source": [
    "import pandas as pd\n",
    "import numpy as np\n",
    "from datetime import datetime, timedelta\n",
    "import time\n",
    "import jqdatasdk\n",
    "from jqdatasdk import *\n",
    "# jqdatasdk.auth('15357927161', 'Yg15156688441')"
   ]
  },
  {
   "cell_type": "markdown",
   "source": [
    "## 获取实时数据"
   ],
   "metadata": {
    "collapsed": false
   },
   "id": "8ebae6c11ced8e3c"
  },
  {
   "cell_type": "code",
   "outputs": [
    {
     "data": {
      "text/plain": "                     open  close  volume\n2023-05-04 09:31:00   NaN    NaN     NaN\n2023-05-04 09:32:00   NaN    NaN     NaN\n2023-05-04 09:33:00   NaN    NaN     NaN\n2023-05-04 09:34:00   NaN    NaN     NaN\n2023-05-04 09:35:00   NaN    NaN     NaN\n...                   ...    ...     ...\n2023-05-30 14:56:00   NaN    NaN     NaN\n2023-05-30 14:57:00   NaN    NaN     NaN\n2023-05-30 14:58:00   NaN    NaN     NaN\n2023-05-30 14:59:00   NaN    NaN     NaN\n2023-05-30 15:00:00   NaN    NaN     NaN\n\n[4560 rows x 3 columns]",
      "text/html": "<div>\n<style scoped>\n    .dataframe tbody tr th:only-of-type {\n        vertical-align: middle;\n    }\n\n    .dataframe tbody tr th {\n        vertical-align: top;\n    }\n\n    .dataframe thead th {\n        text-align: right;\n    }\n</style>\n<table border=\"1\" class=\"dataframe\">\n  <thead>\n    <tr style=\"text-align: right;\">\n      <th></th>\n      <th>open</th>\n      <th>close</th>\n      <th>volume</th>\n    </tr>\n  </thead>\n  <tbody>\n    <tr>\n      <th>2023-05-04 09:31:00</th>\n      <td>NaN</td>\n      <td>NaN</td>\n      <td>NaN</td>\n    </tr>\n    <tr>\n      <th>2023-05-04 09:32:00</th>\n      <td>NaN</td>\n      <td>NaN</td>\n      <td>NaN</td>\n    </tr>\n    <tr>\n      <th>2023-05-04 09:33:00</th>\n      <td>NaN</td>\n      <td>NaN</td>\n      <td>NaN</td>\n    </tr>\n    <tr>\n      <th>2023-05-04 09:34:00</th>\n      <td>NaN</td>\n      <td>NaN</td>\n      <td>NaN</td>\n    </tr>\n    <tr>\n      <th>2023-05-04 09:35:00</th>\n      <td>NaN</td>\n      <td>NaN</td>\n      <td>NaN</td>\n    </tr>\n    <tr>\n      <th>...</th>\n      <td>...</td>\n      <td>...</td>\n      <td>...</td>\n    </tr>\n    <tr>\n      <th>2023-05-30 14:56:00</th>\n      <td>NaN</td>\n      <td>NaN</td>\n      <td>NaN</td>\n    </tr>\n    <tr>\n      <th>2023-05-30 14:57:00</th>\n      <td>NaN</td>\n      <td>NaN</td>\n      <td>NaN</td>\n    </tr>\n    <tr>\n      <th>2023-05-30 14:58:00</th>\n      <td>NaN</td>\n      <td>NaN</td>\n      <td>NaN</td>\n    </tr>\n    <tr>\n      <th>2023-05-30 14:59:00</th>\n      <td>NaN</td>\n      <td>NaN</td>\n      <td>NaN</td>\n    </tr>\n    <tr>\n      <th>2023-05-30 15:00:00</th>\n      <td>NaN</td>\n      <td>NaN</td>\n      <td>NaN</td>\n    </tr>\n  </tbody>\n</table>\n<p>4560 rows × 3 columns</p>\n</div>"
     },
     "execution_count": 24,
     "metadata": {},
     "output_type": "execute_result"
    }
   ],
   "source": [
    "data = get_price('IF1605.CCFX', start_date='2023-05-01', end_date='2023-05-31', frequency='minute', fields=['open', 'close', 'volume'])\n",
    "data"
   ],
   "metadata": {
    "collapsed": false,
    "ExecuteTime": {
     "end_time": "2024-04-29T05:00:20.715669Z",
     "start_time": "2024-04-29T05:00:18.908486Z"
    }
   },
   "id": "3e3d541030568457",
   "execution_count": 24
  },
  {
   "cell_type": "markdown",
   "source": [
    "## 模拟一个期货的价格用于回测"
   ],
   "metadata": {
    "collapsed": false
   },
   "id": "6869f3ef174e8c0f"
  },
  {
   "cell_type": "code",
   "outputs": [
    {
     "name": "stdout",
     "output_type": "stream",
     "text": [
      "                            open\n",
      "2023-05-01 09:30:00  1002.658424\n",
      "2023-05-01 09:31:00   998.476444\n",
      "2023-05-01 09:32:00   999.400461\n",
      "2023-05-01 09:33:00   998.067912\n",
      "2023-05-01 09:34:00   997.924411\n"
     ]
    }
   ],
   "source": [
    "# 设置日期范围\n",
    "start_date = '2023-05-01'\n",
    "end_date = '2023-05-30'\n",
    "\n",
    "# 创建日期时间索引\n",
    "date_range = pd.date_range(start=start_date, end=end_date, freq='B')  # 'B' 表示工作日\n",
    "\n",
    "# 每天的时间段\n",
    "times = pd.date_range(start='9:30', end='15:15', freq='min').time\n",
    "\n",
    "# 使用列表推导式生成每天每分钟的时间戳\n",
    "timestamps = [pd.Timestamp(f'{date.date()} {time}') for date in date_range for time in times]\n",
    "\n",
    "# 创建DataFrame\n",
    "df = pd.DataFrame(index=timestamps, columns=['open'])\n",
    "\n",
    "# 模拟价格数据\n",
    "np.random.seed(24)\n",
    "amplitude = 20  # 波动幅度\n",
    "period = len(df) / 30  # 假设30天内有一个完整的周期\n",
    "noise = np.random.normal(0, 2, size=len(df))  # 随机噪声\n",
    "\n",
    "df['open'] = 1000 + amplitude * np.sin(np.linspace(0, 2 * np.pi, len(df))) + noise\n",
    "\n",
    "# 输出数据查看\n",
    "print(df.head())\n",
    "\n",
    "# 将数据保存到CSV文件（可选）\n",
    "df.to_csv('./data/raw/Futures_Price_Simulation.csv')"
   ],
   "metadata": {
    "collapsed": false,
    "ExecuteTime": {
     "end_time": "2024-04-29T05:15:16.883812Z",
     "start_time": "2024-04-29T05:15:16.852808Z"
    }
   },
   "id": "296368de5276a764",
   "execution_count": 28
  },
  {
   "cell_type": "markdown",
   "source": [
    "## 拟合策略"
   ],
   "metadata": {
    "collapsed": false
   },
   "id": "840be18351d928bd"
  },
  {
   "cell_type": "code",
   "outputs": [
    {
     "data": {
      "text/plain": "                            open\n2023-05-01 09:30:00  1002.658424\n2023-05-01 09:31:00   998.476444\n2023-05-01 09:32:00   999.400461\n2023-05-01 09:33:00   998.067912\n2023-05-01 09:34:00   997.924411\n...                          ...\n2023-05-01 10:46:00  1002.623418\n2023-05-01 10:47:00  1001.329400\n2023-05-01 10:48:00   999.582003\n2023-05-01 10:49:00  1005.266263\n2023-05-01 10:50:00   998.059507\n\n[81 rows x 1 columns]",
      "text/html": "<div>\n<style scoped>\n    .dataframe tbody tr th:only-of-type {\n        vertical-align: middle;\n    }\n\n    .dataframe tbody tr th {\n        vertical-align: top;\n    }\n\n    .dataframe thead th {\n        text-align: right;\n    }\n</style>\n<table border=\"1\" class=\"dataframe\">\n  <thead>\n    <tr style=\"text-align: right;\">\n      <th></th>\n      <th>open</th>\n    </tr>\n  </thead>\n  <tbody>\n    <tr>\n      <th>2023-05-01 09:30:00</th>\n      <td>1002.658424</td>\n    </tr>\n    <tr>\n      <th>2023-05-01 09:31:00</th>\n      <td>998.476444</td>\n    </tr>\n    <tr>\n      <th>2023-05-01 09:32:00</th>\n      <td>999.400461</td>\n    </tr>\n    <tr>\n      <th>2023-05-01 09:33:00</th>\n      <td>998.067912</td>\n    </tr>\n    <tr>\n      <th>2023-05-01 09:34:00</th>\n      <td>997.924411</td>\n    </tr>\n    <tr>\n      <th>...</th>\n      <td>...</td>\n    </tr>\n    <tr>\n      <th>2023-05-01 10:46:00</th>\n      <td>1002.623418</td>\n    </tr>\n    <tr>\n      <th>2023-05-01 10:47:00</th>\n      <td>1001.329400</td>\n    </tr>\n    <tr>\n      <th>2023-05-01 10:48:00</th>\n      <td>999.582003</td>\n    </tr>\n    <tr>\n      <th>2023-05-01 10:49:00</th>\n      <td>1005.266263</td>\n    </tr>\n    <tr>\n      <th>2023-05-01 10:50:00</th>\n      <td>998.059507</td>\n    </tr>\n  </tbody>\n</table>\n<p>81 rows × 1 columns</p>\n</div>"
     },
     "execution_count": 44,
     "metadata": {},
     "output_type": "execute_result"
    }
   ],
   "source": [
    "def fit_and_evaluate(df):\n",
    "    # convert time with the minute as unit\n",
    "    df['minutes'] = np.arange(len(df))\n",
    "    \n",
    "    # Second poly fitting curve\n",
    "    coefficients = np.polyfit(df['minutes'], df['price'], 2)\n",
    "    poly = np.poly1d(coefficients)\n",
    "\n",
    "    # Calculate first order derivative and second order derivative value\n",
    "    derivative1 = poly.deriv(1)\n",
    "    derivative2 = poly.deriv(2)\n",
    "    last_minute = df['minutes'].iloc[-1]\n",
    "    trend = derivative1(last_minute)\n",
    "    acceleration = derivative2(last_minute)\n",
    "    \n",
    "    # return product for signal generation\n",
    "    return trend, acceleration\n",
    "\n",
    "def backtest_strategy(df, start_date, end_date, window_start_time, window_end_time, end_limit_time, initial_capital):\n",
    "    window_start = datetime.strptime(window_start_time, '%H:%M')\n",
    "    window_end_initial = datetime.strptime(window_end_time, '%H:%M')\n",
    "    end_limit = datetime.strptime(end_limit_time, '%H:%M')\n",
    "\n",
    "    capital = initial_capital\n",
    "    shares_owned = 0\n",
    "    position_open_price = 0\n",
    "\n",
    "    results = []\n",
    "\n",
    "    for single_date in pd.date_range(start_date, end_date):\n",
    "        day_str = single_date.strftime('%Y-%m-%d')\n",
    "        if day_str in df.index:\n",
    "            filtered_data = df.loc[day_str]\n",
    "            window_end = window_end_initial\n",
    "            initial_window = filtered_data.between_time(window_start.strftime('%H:%M'), window_end.strftime('%H:%M'))\n",
    "            initial_trend, initial_acceleration = fit_and_evaluate(initial_window)\n",
    "\n",
    "            if initial_trend * initial_acceleration > 0:\n",
    "                position_type = \"Long\" if initial_trend > 0 else \"Short\"\n",
    "                # Assume opening price is the last price in the initial window\n",
    "                position_open_price = initial_window.iloc[-1]\n",
    "                # Calculate number of shares to buy (floor division to avoid fractional shares if applicable)\n",
    "                shares_owned = capital // position_open_price\n",
    "                capital -= shares_owned * position_open_price\n",
    "                results.append(f\"{day_str} - {position_type} position opened at {position_open_price}, shares owned: {shares_owned}\")\n",
    "\n",
    "                while window_end < end_limit:\n",
    "                    window_end += timedelta(minutes=1)\n",
    "                    window_end_str = window_end.strftime('%H:%M')\n",
    "                    current_window = filtered_data.between_time(window_start.strftime('%H:%M'), window_end_str)\n",
    "                    current_trend, current_signal = fit_and_evaluate(current_window)\n",
    "\n",
    "                    if current_trend * initial_trend < 0 or current_signal * initial_acceleration < 0:\n",
    "                        # Closing position at current last price\n",
    "                        closing_price = current_window.iloc[-1]\n",
    "                        capital += shares_owned * closing_price\n",
    "                        results.append(f'{day_str} - Close Position at {window_end_str}, closing price: {closing_price}, capital: {capital}')\n",
    "                        shares_owned = 0\n",
    "                        break\n",
    "                else:\n",
    "                    # Forced close at end limit\n",
    "                    closing_price = filtered_data.at[end_limit.strftime('%Y-%m-%d %H:%M'), 'Price']\n",
    "                    capital += shares_owned * closing_price\n",
    "                    results.append(f\"{day_str} - Forced close position at {end_limit.strftime('%H:%M')}, closing price: {closing_price}, capital: {capital}\")\n",
    "                    shares_owned = 0\n",
    "            else:\n",
    "                results.append(f\"{day_str} - Do not build position\")\n",
    "\n",
    "    return results, capital"
   ],
   "metadata": {
    "collapsed": false,
    "ExecuteTime": {
     "end_time": "2024-04-29T05:57:31.073862Z",
     "start_time": "2024-04-29T05:57:31.056441Z"
    }
   },
   "id": "c97bfc8465127e50",
   "execution_count": 44
  },
  {
   "cell_type": "code",
   "outputs": [],
   "source": [
    "data = pd.read_csv('./data/raw/Futures_Price_Simulation.csv', index_col=0)\n",
    "data.index = pd.to_datetime(data.index)"
   ],
   "metadata": {
    "collapsed": false,
    "ExecuteTime": {
     "end_time": "2024-04-29T05:51:13.521094Z",
     "start_time": "2024-04-29T05:51:13.513410Z"
    }
   },
   "id": "2ceeee26064cb6cc",
   "execution_count": 39
  }
 ],
 "metadata": {
  "kernelspec": {
   "display_name": "Python 3",
   "language": "python",
   "name": "python3"
  },
  "language_info": {
   "codemirror_mode": {
    "name": "ipython",
    "version": 2
   },
   "file_extension": ".py",
   "mimetype": "text/x-python",
   "name": "python",
   "nbconvert_exporter": "python",
   "pygments_lexer": "ipython2",
   "version": "2.7.6"
  }
 },
 "nbformat": 4,
 "nbformat_minor": 5
}
